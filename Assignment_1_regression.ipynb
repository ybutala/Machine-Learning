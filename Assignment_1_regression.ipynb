{
 "cells": [
  {
   "cell_type": "code",
   "execution_count": 16,
   "id": "2a648aa4",
   "metadata": {},
   "outputs": [],
   "source": [
    "# Set up the environment\n",
    "import pandas as pd\n",
    "from sklearn.linear_model import LinearRegression\n",
    "from sklearn.metrics import r2_score, mean_squared_error, mean_absolute_error\n",
    "\n",
    "## Loading data into python\n",
    "df = pd.read_csv('climate_change.csv')"
   ]
  },
  {
   "cell_type": "code",
   "execution_count": 28,
   "id": "10b765b1",
   "metadata": {},
   "outputs": [],
   "source": [
    "# Split the data\n",
    "df_train = df[df['Year'] <= 2002]\n",
    "df_test = df[df['Year'] > 2002]"
   ]
  },
  {
   "cell_type": "markdown",
   "id": "84d5bc16",
   "metadata": {},
   "source": [
    "a) Build a linear regression model to predict the dependent variable Temp, using CO2,\n",
    "CH4, N2O, CFC-11, CFC-12, Aerosols, TSI and MEI as features (Year and Month\n",
    "should NOT be used as features in the model). As always, use only the training set to\n",
    "train your model. What are the in-sample and out-of-sample R2, MSE, and MAE?"
   ]
  },
  {
   "cell_type": "code",
   "execution_count": 29,
   "id": "908c2861",
   "metadata": {},
   "outputs": [
    {
     "name": "stdout",
     "output_type": "stream",
     "text": [
      "training dataset coefficients: [ 6.59008764e-02  6.24077568e-03  2.62189354e-04 -3.48478075e-02\n",
      " -8.87194950e-03  5.48441303e-03  1.19394890e-01 -1.65036522e+00]\n",
      "training dataset intercept: -155.18672675256192\n",
      "in-sample R2: 0.6920595959984741\n",
      "in-sample MSE: 0.008731426409911177\n",
      "in-sample MAE: 0.07260918612938931\n"
     ]
    }
   ],
   "source": [
    "# First we create a \"blank\" linear regression model for training dataset\n",
    "LR_train1 = LinearRegression()\n",
    "\n",
    "# Then we use the \"fit\" function on training dataset\n",
    "features = [\n",
    " 'MEI',\n",
    " 'CO2',\n",
    " 'CH4',\n",
    " 'N2O',\n",
    " 'CFC-11',\n",
    " 'CFC-12',\n",
    " 'TSI',\n",
    " 'Aerosols',\n",
    "]\n",
    "X_train1 = df_train[features]\n",
    "Y_train1 = df_train['Temp']\n",
    "LR_train1.fit(X_train1,Y_train1)\n",
    "\n",
    "# After fitting, we can check the coefficients with the \"coef_\" attribute\n",
    "print(\"training dataset coefficients:\", LR_train1.coef_)\n",
    "\n",
    "# The intercept is accessed separately with the \"intercept_\" attribute\n",
    "print(\"training dataset intercept:\", LR_train1.intercept_)\n",
    "\n",
    "# Now that our model is trained, we can make predictions.\n",
    "y_pred_train1 = LR_train1.predict(X_train1)\n",
    "\n",
    "# Check for in-sample R2, MSE, and MAE\n",
    "print(\"in-sample R2:\", r2_score(Y_train1,y_pred_train1))\n",
    "print(\"in-sample MSE:\", mean_squared_error(Y_train1,y_pred_train1))\n",
    "print(\"in-sample MAE:\", mean_absolute_error(Y_train1,y_pred_train1))"
   ]
  },
  {
   "cell_type": "code",
   "execution_count": 33,
   "id": "5479ac59",
   "metadata": {},
   "outputs": [
    {
     "name": "stdout",
     "output_type": "stream",
     "text": [
      "out-of-sample R2: -0.541325583402297\n",
      "out-of-sample MSE: 0.012206974835137179\n",
      "out-of-sample MAE: 0.09312747891276273\n"
     ]
    }
   ],
   "source": [
    "# Testing the model on test dataset\n",
    "X_test1 = df_test[features]\n",
    "Y_test1 = df_test['Temp']\n",
    "\n",
    "# Make predictions on the test dataset\n",
    "y_pred_test1 = LR_train1.predict(X_test1)\n",
    "\n",
    "# Check for out-of-sample R2, MSE, and MAE\n",
    "print(\"out-of-sample R2:\", r2_score(Y_test1, y_pred_test1))\n",
    "print(\"out-of-sample MSE:\", mean_squared_error(Y_test1, y_pred_test1))\n",
    "print(\"out-of-sample MAE:\", mean_absolute_error(Y_test1, y_pred_test1))"
   ]
  },
  {
   "cell_type": "markdown",
   "id": "7cc05376",
   "metadata": {},
   "source": [
    "b) Build another linear regression model, this time with only N2O, Aerosols, TSI, and\n",
    "MEI as features. What are the in-sample and out-of-sample R2"
   ]
  },
  {
   "cell_type": "code",
   "execution_count": 34,
   "id": "9306f945",
   "metadata": {},
   "outputs": [
    {
     "name": "stdout",
     "output_type": "stream",
     "text": [
      "training dataset coefficients: [ 0.06549568  0.02427612  0.08577046 -1.72465971]\n",
      "training dataset intercept: -124.4841255734033\n",
      "in-sample R2: 0.6490120806760372\n",
      "in-sample MSE: 0.009952007429105784\n",
      "in-sample MAE: 0.07666650280233205\n"
     ]
    }
   ],
   "source": [
    "# First we create a \"blank\" linear regression model for training dataset\n",
    "LR_train2 = LinearRegression()\n",
    "\n",
    "# Then we use the \"fit\" function on training dataset\n",
    "features2 = [\n",
    " 'MEI',\n",
    " 'N2O',\n",
    " 'TSI',\n",
    " 'Aerosols'\n",
    "]\n",
    "X_train2 = df_train[features2]\n",
    "Y_train2 = df_train['Temp']\n",
    "LR_train2.fit(X_train2,Y_train2)\n",
    "\n",
    "# After fitting, we can check the coefficients with the \"coef_\" attribute\n",
    "print(\"training dataset coefficients:\", LR_train2.coef_)\n",
    "\n",
    "# The intercept is accessed separately with the \"intercept_\" attribute\n",
    "print(\"training dataset intercept:\", LR_train2.intercept_)\n",
    "\n",
    "# Now that our model is trained, we can make predictions.\n",
    "y_pred_train2 = LR_train2.predict(X_train2)\n",
    "\n",
    "# Check for in-sample R2, MSE, and MAE\n",
    "print(\"in-sample R2:\", r2_score(Y_train2,y_pred_train2))\n",
    "print(\"in-sample MSE:\", mean_squared_error(Y_train2,y_pred_train2))\n",
    "print(\"in-sample MAE:\", mean_absolute_error(Y_train2,y_pred_train2))"
   ]
  },
  {
   "cell_type": "code",
   "execution_count": 36,
   "id": "f22bdfd4",
   "metadata": {},
   "outputs": [
    {
     "name": "stdout",
     "output_type": "stream",
     "text": [
      "out-of-sample R2: 0.20031861104556226\n",
      "out-of-sample MSE: 0.006333308611894036\n",
      "out-of-sample MAE: 0.06154027269393422\n"
     ]
    }
   ],
   "source": [
    "# Testing the model on test dataset\n",
    "X_test2 = df_test[features2]\n",
    "Y_test2 = df_test['Temp']\n",
    "\n",
    "# Make predictions on the test dataset\n",
    "y_pred_test2 = LR_train2.predict(X_test2)\n",
    "\n",
    "# Check for out-of-sample R2, MSE, and MAE\n",
    "print(\"out-of-sample R2:\", r2_score(Y_test2, y_pred_test2))\n",
    "print(\"out-of-sample MSE:\", mean_squared_error(Y_test2, y_pred_test2))\n",
    "print(\"out-of-sample MAE:\", mean_absolute_error(Y_test2, y_pred_test2))"
   ]
  },
  {
   "cell_type": "code",
   "execution_count": null,
   "id": "8544f2c3",
   "metadata": {},
   "outputs": [],
   "source": []
  }
 ],
 "metadata": {
  "kernelspec": {
   "display_name": "Python 3 (ipykernel)",
   "language": "python",
   "name": "python3"
  },
  "language_info": {
   "codemirror_mode": {
    "name": "ipython",
    "version": 3
   },
   "file_extension": ".py",
   "mimetype": "text/x-python",
   "name": "python",
   "nbconvert_exporter": "python",
   "pygments_lexer": "ipython3",
   "version": "3.9.12"
  }
 },
 "nbformat": 4,
 "nbformat_minor": 5
}
