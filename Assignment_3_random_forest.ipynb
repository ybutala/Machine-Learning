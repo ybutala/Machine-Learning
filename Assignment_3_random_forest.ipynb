{
  "nbformat": 4,
  "nbformat_minor": 0,
  "metadata": {
    "colab": {
      "provenance": []
    },
    "kernelspec": {
      "name": "python3",
      "display_name": "Python 3"
    },
    "language_info": {
      "name": "python"
    }
  },
  "cells": [
    {
      "cell_type": "code",
      "source": [
        "import pickle\n",
        "import numpy as np\n",
        "import pandas as pd\n",
        "from sklearn.linear_model import LogisticRegression\n",
        "from sklearn.model_selection import train_test_split, GridSearchCV\n",
        "from sklearn.metrics import confusion_matrix, roc_curve, roc_auc_score\n",
        "import matplotlib.pyplot as plt\n",
        "from sklearn.tree import DecisionTreeClassifier, plot_tree\n",
        "from sklearn.decomposition import PCA\n",
        "from sklearn.ensemble import RandomForestClassifier"
      ],
      "metadata": {
        "id": "DQMdyXwMYzEl"
      },
      "execution_count": 4,
      "outputs": []
    },
    {
      "cell_type": "code",
      "source": [
        "from google.colab import drive\n",
        "drive.mount('/content/drive')"
      ],
      "metadata": {
        "colab": {
          "base_uri": "https://localhost:8080/"
        },
        "id": "VEHHnZUYYfL-",
        "outputId": "8bbad699-d1b5-413c-a44b-e102d9822ef5"
      },
      "execution_count": 3,
      "outputs": [
        {
          "output_type": "stream",
          "name": "stdout",
          "text": [
            "Mounted at /content/drive\n"
          ]
        }
      ]
    },
    {
      "cell_type": "code",
      "source": [
        "#importing the data\n",
        "X,y = pickle.load(open(\"/content/drive/My Drive/ML_Fundamentals/cosmic.p\",\"rb\"))"
      ],
      "metadata": {
        "id": "bn9kA9F9Yafq"
      },
      "execution_count": 5,
      "outputs": []
    },
    {
      "cell_type": "markdown",
      "source": [
        "#Q6.1"
      ],
      "metadata": {
        "id": "d4dwaHmx3ycz"
      }
    },
    {
      "cell_type": "code",
      "source": [
        "X"
      ],
      "metadata": {
        "colab": {
          "base_uri": "https://localhost:8080/"
        },
        "id": "O7FP-NgOZgqU",
        "outputId": "53ef8af3-a60b-4ceb-9074-88b0a70b6103"
      },
      "execution_count": 6,
      "outputs": [
        {
          "output_type": "execute_result",
          "data": {
            "text/plain": [
              "array([[0, 0, 0, ..., 0, 0, 0],\n",
              "       [0, 0, 0, ..., 0, 0, 0],\n",
              "       [0, 0, 0, ..., 0, 1, 0],\n",
              "       ...,\n",
              "       [0, 1, 0, ..., 0, 0, 0],\n",
              "       [0, 0, 0, ..., 0, 0, 0],\n",
              "       [0, 0, 0, ..., 0, 0, 0]], dtype=int8)"
            ]
          },
          "metadata": {},
          "execution_count": 6
        }
      ]
    },
    {
      "cell_type": "code",
      "source": [
        "y"
      ],
      "metadata": {
        "colab": {
          "base_uri": "https://localhost:8080/"
        },
        "id": "zTcFtuozZhzw",
        "outputId": "f8325fca-04f9-49de-e61f-a345730c8651"
      },
      "execution_count": 7,
      "outputs": [
        {
          "output_type": "execute_result",
          "data": {
            "text/plain": [
              "array([4, 3, 1, ..., 2, 3, 1], dtype=int8)"
            ]
          },
          "metadata": {},
          "execution_count": 7
        }
      ]
    },
    {
      "cell_type": "code",
      "execution_count": 8,
      "metadata": {
        "colab": {
          "base_uri": "https://localhost:8080/"
        },
        "id": "v-q__t9uYK6q",
        "outputId": "816e01e3-56de-4f06-8048-cab0f6df661c"
      },
      "outputs": [
        {
          "output_type": "execute_result",
          "data": {
            "text/plain": [
              "(6755, 18703)"
            ]
          },
          "metadata": {},
          "execution_count": 8
        }
      ],
      "source": [
        "#data exploration\n",
        "X.shape"
      ]
    },
    {
      "cell_type": "code",
      "source": [
        "y.shape"
      ],
      "metadata": {
        "colab": {
          "base_uri": "https://localhost:8080/"
        },
        "id": "LfeTApT4ZTE1",
        "outputId": "29cd2ee1-75cb-47a1-fdd5-04216b87226e"
      },
      "execution_count": 9,
      "outputs": [
        {
          "output_type": "execute_result",
          "data": {
            "text/plain": [
              "(6755,)"
            ]
          },
          "metadata": {},
          "execution_count": 9
        }
      ]
    },
    {
      "cell_type": "markdown",
      "source": [
        "#Q6.1a"
      ],
      "metadata": {
        "id": "1XPUnRmp33FY"
      }
    },
    {
      "cell_type": "code",
      "source": [
        "#How many of the 6,755 samples belong to each of the six types of cancer?\n",
        "print(\"number of type 1 cancer samples\",(y == 1).sum())\n",
        "print(\"number of type 1 cancer samples\",(y == 2).sum())\n",
        "print(\"number of type 1 cancer samples\",(y == 3).sum())\n",
        "print(\"number of type 1 cancer samples\",(y == 4).sum())\n",
        "print(\"number of type 1 cancer samples\",(y == 5).sum())\n",
        "print(\"number of type 1 cancer samples\",(y == 6).sum())"
      ],
      "metadata": {
        "colab": {
          "base_uri": "https://localhost:8080/"
        },
        "id": "rGcADm5kZfcI",
        "outputId": "7943da5f-94e4-40bd-934a-a3d78bb80827"
      },
      "execution_count": 10,
      "outputs": [
        {
          "output_type": "stream",
          "name": "stdout",
          "text": [
            "number of type 1 cancer samples 608\n",
            "number of type 1 cancer samples 1867\n",
            "number of type 1 cancer samples 1399\n",
            "number of type 1 cancer samples 1363\n",
            "number of type 1 cancer samples 1006\n",
            "number of type 1 cancer samples 512\n"
          ]
        }
      ]
    },
    {
      "cell_type": "markdown",
      "source": [
        "#Q6.1b"
      ],
      "metadata": {
        "id": "Ryotg1CJ4mqF"
      }
    },
    {
      "cell_type": "code",
      "source": [
        "#count the total number of mutations for each sample (i.e. each row of X). What’s the smallest number? The largest number? The average?\n",
        "max=0\n",
        "min=18705\n",
        "sum=0\n",
        "t=0\n",
        "for i in range(0, 6755):\n",
        "  t=(X[i]==1).sum()\n",
        "  if(t>max):\n",
        "    max=t\n",
        "  if(t<min):\n",
        "    min=t\n",
        "  sum=sum+t\n",
        "  t=0\n",
        "\n"
      ],
      "metadata": {
        "id": "IAf-rINcaiVR"
      },
      "execution_count": 11,
      "outputs": []
    },
    {
      "cell_type": "code",
      "source": [
        "print(\"minimum mutations for each sample\",min)"
      ],
      "metadata": {
        "colab": {
          "base_uri": "https://localhost:8080/"
        },
        "id": "iyAcHeMhaz9Z",
        "outputId": "668c6d48-917e-4473-e7c7-93ed886ba551"
      },
      "execution_count": 12,
      "outputs": [
        {
          "output_type": "stream",
          "name": "stdout",
          "text": [
            "minimum mutations for each sample 45\n"
          ]
        }
      ]
    },
    {
      "cell_type": "code",
      "source": [
        "print(\"maximum mutations for each sample\",max)"
      ],
      "metadata": {
        "colab": {
          "base_uri": "https://localhost:8080/"
        },
        "id": "6_kS5GjV31Pc",
        "outputId": "1f7db3ee-ff87-4454-89b4-7033e577c86a"
      },
      "execution_count": 13,
      "outputs": [
        {
          "output_type": "stream",
          "name": "stdout",
          "text": [
            "maximum mutations for each sample 5938\n"
          ]
        }
      ]
    },
    {
      "cell_type": "code",
      "source": [
        "print(\"average mutations for each sample\",sum/6755)"
      ],
      "metadata": {
        "colab": {
          "base_uri": "https://localhost:8080/"
        },
        "id": "nE7fOTbX32I5",
        "outputId": "d6fd8279-2e1e-48ca-bd08-363358f3b499"
      },
      "execution_count": 14,
      "outputs": [
        {
          "output_type": "stream",
          "name": "stdout",
          "text": [
            "average mutations for each sample 241.75292376017765\n"
          ]
        }
      ]
    },
    {
      "cell_type": "markdown",
      "source": [
        "#Q6.1c"
      ],
      "metadata": {
        "id": "pNXGP0HB4xH-"
      }
    },
    {
      "cell_type": "code",
      "source": [
        "#count the total number of mutations for each gene (i.e. each column of X). What’s the smallest number? The largest number? The average?\n",
        "max=0\n",
        "min=18705\n",
        "sum=0\n",
        "t=0\n",
        "\n",
        "for i in range(0,18703):\n",
        "  for j in range(0,6755):\n",
        "    t=t+X[j][i]\n",
        "  if(t>max):\n",
        "    max=t\n",
        "  if(t<min):\n",
        "    min=t\n",
        "  sum=sum+t\n",
        "  t=0"
      ],
      "metadata": {
        "id": "SZoNz2t-33Dp"
      },
      "execution_count": 15,
      "outputs": []
    },
    {
      "cell_type": "code",
      "source": [
        "print(\"minimum mutations for each gene\",min)"
      ],
      "metadata": {
        "colab": {
          "base_uri": "https://localhost:8080/"
        },
        "id": "dICIQtbv7c1G",
        "outputId": "ae9498f0-961b-4720-cda3-952d264a3257"
      },
      "execution_count": 16,
      "outputs": [
        {
          "output_type": "stream",
          "name": "stdout",
          "text": [
            "minimum mutations for each gene 30\n"
          ]
        }
      ]
    },
    {
      "cell_type": "code",
      "source": [
        "print(\"maximum mutations for each gene\",max)"
      ],
      "metadata": {
        "colab": {
          "base_uri": "https://localhost:8080/"
        },
        "id": "G1tbylCl78pf",
        "outputId": "6c1a7e10-1887-4b53-8294-f8bee0ee05e2"
      },
      "execution_count": 17,
      "outputs": [
        {
          "output_type": "stream",
          "name": "stdout",
          "text": [
            "maximum mutations for each gene 1768\n"
          ]
        }
      ]
    },
    {
      "cell_type": "code",
      "source": [
        "print(\"average mutations for each gene\",sum/18703)"
      ],
      "metadata": {
        "colab": {
          "base_uri": "https://localhost:8080/"
        },
        "id": "_Yktd-VV78hY",
        "outputId": "eb23d318-2e78-4116-e37a-b917d68b8019"
      },
      "execution_count": 18,
      "outputs": [
        {
          "output_type": "stream",
          "name": "stdout",
          "text": [
            "average mutations for each gene 87.31438806608566\n"
          ]
        }
      ]
    },
    {
      "cell_type": "code",
      "source": [
        "#Treat the first 4,500 rows of the data as your training set (and the remaining 2,255 rows as your test set)\n",
        "X_train = X[:4500]"
      ],
      "metadata": {
        "id": "ORhM9D5P8GRV"
      },
      "execution_count": 104,
      "outputs": []
    },
    {
      "cell_type": "code",
      "source": [
        "X_train.shape"
      ],
      "metadata": {
        "colab": {
          "base_uri": "https://localhost:8080/"
        },
        "id": "fQTMJEfc9T1B",
        "outputId": "d6042bb5-18eb-41e9-e760-7e3595807b4a"
      },
      "execution_count": 105,
      "outputs": [
        {
          "output_type": "execute_result",
          "data": {
            "text/plain": [
              "(4500, 18703)"
            ]
          },
          "metadata": {},
          "execution_count": 105
        }
      ]
    },
    {
      "cell_type": "code",
      "source": [
        "X_test = X[4501:]"
      ],
      "metadata": {
        "id": "FEDtAgEr9VF8"
      },
      "execution_count": 106,
      "outputs": []
    },
    {
      "cell_type": "code",
      "source": [
        "X_test.shape"
      ],
      "metadata": {
        "colab": {
          "base_uri": "https://localhost:8080/"
        },
        "id": "hMX6Nm2w9kRO",
        "outputId": "eaf579e8-c34d-4ea4-a85a-51a62bcd7c60"
      },
      "execution_count": 107,
      "outputs": [
        {
          "output_type": "execute_result",
          "data": {
            "text/plain": [
              "(2254, 18703)"
            ]
          },
          "metadata": {},
          "execution_count": 107
        }
      ]
    },
    {
      "cell_type": "code",
      "source": [
        "y_train = y[:4500]"
      ],
      "metadata": {
        "id": "tHxWwTaS9l2Y"
      },
      "execution_count": 108,
      "outputs": []
    },
    {
      "cell_type": "code",
      "source": [
        "y_train.shape"
      ],
      "metadata": {
        "colab": {
          "base_uri": "https://localhost:8080/"
        },
        "id": "huRyJGz09rMa",
        "outputId": "07067d0c-a0d8-4a10-f678-3ab63586d294"
      },
      "execution_count": 109,
      "outputs": [
        {
          "output_type": "execute_result",
          "data": {
            "text/plain": [
              "(4500,)"
            ]
          },
          "metadata": {},
          "execution_count": 109
        }
      ]
    },
    {
      "cell_type": "code",
      "source": [
        "y_test=y[4501:]"
      ],
      "metadata": {
        "id": "uNFLHSJX9sab"
      },
      "execution_count": 110,
      "outputs": []
    },
    {
      "cell_type": "code",
      "source": [
        "y_test.shape"
      ],
      "metadata": {
        "id": "vak-ZMR_9xVN",
        "outputId": "8ff83dd2-f8fa-465f-b7e6-8262ace4b471",
        "colab": {
          "base_uri": "https://localhost:8080/"
        }
      },
      "execution_count": 111,
      "outputs": [
        {
          "output_type": "execute_result",
          "data": {
            "text/plain": [
              "(2254,)"
            ]
          },
          "metadata": {},
          "execution_count": 111
        }
      ]
    },
    {
      "cell_type": "markdown",
      "source": [
        "#Q6.2a\n",
        "\n",
        "##logistic regression"
      ],
      "metadata": {
        "id": "VfIu9YDR46KL"
      }
    },
    {
      "cell_type": "code",
      "source": [
        "#logistic regression binary classifier for cancer type 1\n",
        "binarylabels1 = np.where(y_train == 1, 1, 0)\n",
        "mdl1 = LogisticRegression()\n",
        "mdl1.fit(X_train, binarylabels1)\n",
        "# clf = (penalty='none',max_iter=1000LogisticRegression)\n",
        "mdl1.predict_proba(X_test)\n",
        "threshold = 0.5\n",
        "y_pred = mdl1.predict_proba(X_test)[:,1]\n",
        "y_test1 = np.where(y_test == 1, 1, 0)\n",
        "roc_auc_score(y_test1,y_pred)"
      ],
      "metadata": {
        "id": "KHEylAX49yso",
        "colab": {
          "base_uri": "https://localhost:8080/"
        },
        "outputId": "988c448f-f122-4661-bcde-c0a0509bf122"
      },
      "execution_count": 112,
      "outputs": [
        {
          "output_type": "execute_result",
          "data": {
            "text/plain": [
              "0.9607288579164498"
            ]
          },
          "metadata": {},
          "execution_count": 112
        }
      ]
    },
    {
      "cell_type": "code",
      "source": [
        "#logistic regression binary classifier for cancer type 2\n",
        "binarylabels2 = np.where(y_train == 2, 1, 0)\n",
        "mdl2 = LogisticRegression()\n",
        "mdl2.fit(X_train, binarylabels2)\n",
        "# clf = (penalty='none',max_iter=1000LogisticRegression)\n",
        "mdl2.predict_proba(X_test)\n",
        "threshold = 0.5\n",
        "y_pred = mdl2.predict_proba(X_test)[:,1]\n",
        "y_test2 = np.where(y_test == 2, 1, 0)\n",
        "roc_auc_score(y_test2,y_pred)"
      ],
      "metadata": {
        "colab": {
          "base_uri": "https://localhost:8080/"
        },
        "id": "6dwco7WV0xx8",
        "outputId": "db1ccfa0-59dd-452f-e7c5-eae19dbb3169"
      },
      "execution_count": 113,
      "outputs": [
        {
          "output_type": "execute_result",
          "data": {
            "text/plain": [
              "0.9576842362724716"
            ]
          },
          "metadata": {},
          "execution_count": 113
        }
      ]
    },
    {
      "cell_type": "code",
      "source": [
        "#logistic regression binary classifier for cancer type 3\n",
        "binarylabels3 = np.where(y_train == 3, 1, 0)\n",
        "mdl3 = LogisticRegression()\n",
        "mdl3.fit(X_train, binarylabels3)\n",
        "# clf = (penalty='none',max_iter=1000LogisticRegression)\n",
        "mdl3.predict_proba(X_test)\n",
        "threshold = 0.5\n",
        "y_pred = mdl3.predict_proba(X_test)[:,1]\n",
        "y_test3 = np.where(y_test == 3, 1, 0)\n",
        "roc_auc_score(y_test3,y_pred)"
      ],
      "metadata": {
        "colab": {
          "base_uri": "https://localhost:8080/"
        },
        "id": "ylhNPpz512CC",
        "outputId": "7a0c2ca9-c400-4ed3-87bc-238168375b51"
      },
      "execution_count": 114,
      "outputs": [
        {
          "output_type": "execute_result",
          "data": {
            "text/plain": [
              "0.9252122620865386"
            ]
          },
          "metadata": {},
          "execution_count": 114
        }
      ]
    },
    {
      "cell_type": "code",
      "source": [
        "#logistic regression binary classifier for cancer type 4\n",
        "binarylabels4 = np.where(y_train == 4, 1, 0)\n",
        "mdl4 = LogisticRegression()\n",
        "mdl4.fit(X_train, binarylabels4)\n",
        "# clf = (penalty='none',max_iter=1000LogisticRegression)\n",
        "mdl4.predict_proba(X_test)\n",
        "threshold = 0.5\n",
        "y_pred = mdl4.predict_proba(X_test)[:,1]\n",
        "y_test4 = np.where(y_test == 4, 1, 0)\n",
        "roc_auc_score(y_test4,y_pred)"
      ],
      "metadata": {
        "colab": {
          "base_uri": "https://localhost:8080/"
        },
        "id": "y2zCZYPt2RKt",
        "outputId": "ef2c82d3-3ef3-4087-925c-c8e9bbeaacf1"
      },
      "execution_count": 115,
      "outputs": [
        {
          "output_type": "execute_result",
          "data": {
            "text/plain": [
              "0.9367978719871906"
            ]
          },
          "metadata": {},
          "execution_count": 115
        }
      ]
    },
    {
      "cell_type": "code",
      "source": [
        "#logistic regression binary classifier for cancer type 5\n",
        "binarylabels5 = np.where(y_train == 5, 1, 0)\n",
        "mdl5 = LogisticRegression()\n",
        "mdl5.fit(X_train, binarylabels5)\n",
        "# clf = (penalty='none',max_iter=1000LogisticRegression)\n",
        "mdl5.predict_proba(X_test)\n",
        "threshold = 0.5\n",
        "y_pred = mdl5.predict_proba(X_test)[:,1]\n",
        "y_test5 = np.where(y_test == 5, 1, 0)\n",
        "roc_auc_score(y_test5,y_pred)"
      ],
      "metadata": {
        "colab": {
          "base_uri": "https://localhost:8080/"
        },
        "id": "cc7QidAJ2hv-",
        "outputId": "0cfce621-d986-415f-f23d-aa21dd1fb841"
      },
      "execution_count": 116,
      "outputs": [
        {
          "output_type": "execute_result",
          "data": {
            "text/plain": [
              "0.8852794508326269"
            ]
          },
          "metadata": {},
          "execution_count": 116
        }
      ]
    },
    {
      "cell_type": "code",
      "source": [
        "#logistic regression binary classifier for cancer type 6\n",
        "binarylabels6 = np.where(y_train == 6, 1, 0)\n",
        "mdl6 = LogisticRegression()\n",
        "mdl6.fit(X_train, binarylabels6)\n",
        "# clf = (penalty='none',max_iter=1000LogisticRegression)\n",
        "mdl6.predict_proba(X_test)\n",
        "threshold = 0.5\n",
        "y_pred = mdl6.predict_proba(X_test)[:,1]\n",
        "y_test6 = np.where(y_test == 6, 1, 0)\n",
        "roc_auc_score(y_test6,y_pred)"
      ],
      "metadata": {
        "colab": {
          "base_uri": "https://localhost:8080/"
        },
        "id": "qKmHw70Z4PAW",
        "outputId": "c0c768ea-2b57-4eb3-ded9-8e2892b3a453"
      },
      "execution_count": 117,
      "outputs": [
        {
          "output_type": "execute_result",
          "data": {
            "text/plain": [
              "0.9151109508252365"
            ]
          },
          "metadata": {},
          "execution_count": 117
        }
      ]
    },
    {
      "cell_type": "markdown",
      "source": [
        "#Q6.2b"
      ],
      "metadata": {
        "id": "1Ezy52NS494A"
      }
    },
    {
      "cell_type": "markdown",
      "source": [
        "##logistic regression with L1 penalty"
      ],
      "metadata": {
        "id": "VyCEXgSF8EJ1"
      }
    },
    {
      "cell_type": "code",
      "source": [
        "#logistic regression binary classifier for cancer type 1\n",
        "binarylabels1 = np.where(y_train == 1, 1, 0)\n",
        "mdl1 = LogisticRegression(penalty='l1', solver='liblinear')\n",
        "mdl1.fit(X_train, binarylabels1)\n",
        "# clf = (penalty='none',max_iter=1000LogisticRegression)\n",
        "mdl1.predict_proba(X_test)\n",
        "threshold = 0.5\n",
        "y_pred = mdl1.predict_proba(X_test)[:,1]\n",
        "y_test1 = np.where(y_test == 1, 1, 0)\n",
        "roc_auc_score(y_test1,y_pred)"
      ],
      "metadata": {
        "colab": {
          "base_uri": "https://localhost:8080/"
        },
        "id": "tp6C9u1X4i8t",
        "outputId": "40c45c9e-efc9-44c0-d38a-1507d890e311"
      },
      "execution_count": 118,
      "outputs": [
        {
          "output_type": "execute_result",
          "data": {
            "text/plain": [
              "0.9484266151800148"
            ]
          },
          "metadata": {},
          "execution_count": 118
        }
      ]
    },
    {
      "cell_type": "code",
      "source": [
        "#logistic regression binary classifier for cancer type 2\n",
        "binarylabels2 = np.where(y_train == 2, 1, 0)\n",
        "mdl2 = LogisticRegression(penalty='l1', solver='liblinear')\n",
        "mdl2.fit(X_train, binarylabels2)\n",
        "# clf = (penalty='none',max_iter=1000LogisticRegression)\n",
        "mdl2.predict_proba(X_test)\n",
        "threshold = 0.5\n",
        "y_pred = mdl2.predict_proba(X_test)[:,1]\n",
        "y_test2 = np.where(y_test == 2, 1, 0)\n",
        "roc_auc_score(y_test2,y_pred)"
      ],
      "metadata": {
        "colab": {
          "base_uri": "https://localhost:8080/"
        },
        "id": "R-NLDmjp8MTf",
        "outputId": "1b413dc4-0d7c-495b-de96-a0479b8fd434"
      },
      "execution_count": 119,
      "outputs": [
        {
          "output_type": "execute_result",
          "data": {
            "text/plain": [
              "0.9437231258407727"
            ]
          },
          "metadata": {},
          "execution_count": 119
        }
      ]
    },
    {
      "cell_type": "code",
      "source": [
        "#logistic regression binary classifier for cancer type 3\n",
        "binarylabels3 = np.where(y_train == 3, 1, 0)\n",
        "mdl3 = LogisticRegression(penalty='l1', solver='liblinear')\n",
        "mdl3.fit(X_train, binarylabels3)\n",
        "# clf = (penalty='none',max_iter=1000LogisticRegression)\n",
        "mdl3.predict_proba(X_test)\n",
        "threshold = 0.5\n",
        "y_pred = mdl3.predict_proba(X_test)[:,1]\n",
        "y_test3 = np.where(y_test == 3, 1, 0)\n",
        "roc_auc_score(y_test3,y_pred)"
      ],
      "metadata": {
        "colab": {
          "base_uri": "https://localhost:8080/"
        },
        "id": "jEDLJvQ48uur",
        "outputId": "74e4f51a-e768-4e80-fcaf-638519e2c8fc"
      },
      "execution_count": 120,
      "outputs": [
        {
          "output_type": "execute_result",
          "data": {
            "text/plain": [
              "0.8943491601910115"
            ]
          },
          "metadata": {},
          "execution_count": 120
        }
      ]
    },
    {
      "cell_type": "code",
      "source": [
        "#logistic regression binary classifier for cancer type 4\n",
        "binarylabels4 = np.where(y_train == 4, 1, 0)\n",
        "mdl4 = LogisticRegression(penalty='l1', solver='liblinear')\n",
        "mdl4.fit(X_train, binarylabels4)\n",
        "# clf = (penalty='none',max_iter=1000LogisticRegression)\n",
        "mdl4.predict_proba(X_test)\n",
        "threshold = 0.5\n",
        "y_pred = mdl4.predict_proba(X_test)[:,1]\n",
        "y_test4 = np.where(y_test == 4, 1, 0)\n",
        "roc_auc_score(y_test4,y_pred)"
      ],
      "metadata": {
        "colab": {
          "base_uri": "https://localhost:8080/"
        },
        "id": "VvWy1uxE81v3",
        "outputId": "223ecc35-f312-4dde-d8cb-bab87c3d492e"
      },
      "execution_count": 121,
      "outputs": [
        {
          "output_type": "execute_result",
          "data": {
            "text/plain": [
              "0.906780150844921"
            ]
          },
          "metadata": {},
          "execution_count": 121
        }
      ]
    },
    {
      "cell_type": "code",
      "source": [
        "#logistic regression binary classifier for cancer type 5\n",
        "binarylabels5 = np.where(y_train == 5, 1, 0)\n",
        "mdl5 = LogisticRegression(penalty='l1', solver='liblinear')\n",
        "mdl5.fit(X_train, binarylabels5)\n",
        "# clf = (penalty='none',max_iter=1000LogisticRegression)\n",
        "mdl5.predict_proba(X_test)\n",
        "threshold = 0.5\n",
        "y_pred = mdl5.predict_proba(X_test)[:,1]\n",
        "y_test5 = np.where(y_test == 5, 1, 0)\n",
        "roc_auc_score(y_test5,y_pred)"
      ],
      "metadata": {
        "colab": {
          "base_uri": "https://localhost:8080/"
        },
        "id": "LJ0BkH7K87cn",
        "outputId": "a5e74219-779c-4e0e-d532-1ecd0b8e1abf"
      },
      "execution_count": 122,
      "outputs": [
        {
          "output_type": "execute_result",
          "data": {
            "text/plain": [
              "0.8858573765239532"
            ]
          },
          "metadata": {},
          "execution_count": 122
        }
      ]
    },
    {
      "cell_type": "code",
      "source": [
        "#logistic regression binary classifier for cancer type 6\n",
        "binarylabels6 = np.where(y_train == 6, 1, 0)\n",
        "mdl6 = LogisticRegression(penalty='l1', solver='liblinear')\n",
        "mdl6.fit(X_train, binarylabels6)\n",
        "# clf = (penalty='none',max_iter=1000LogisticRegression)\n",
        "mdl6.predict_proba(X_test)\n",
        "threshold = 0.5\n",
        "y_pred = mdl6.predict_proba(X_test)[:,1]\n",
        "y_test6 = np.where(y_test == 6, 1, 0)\n",
        "roc_auc_score(y_test6,y_pred)"
      ],
      "metadata": {
        "colab": {
          "base_uri": "https://localhost:8080/"
        },
        "id": "2UwPmDQp9API",
        "outputId": "110f0f03-6dee-4ffb-ae8f-4e21e632cbcd"
      },
      "execution_count": 123,
      "outputs": [
        {
          "output_type": "execute_result",
          "data": {
            "text/plain": [
              "0.9080439348296492"
            ]
          },
          "metadata": {},
          "execution_count": 123
        }
      ]
    },
    {
      "cell_type": "markdown",
      "source": [
        "#Q6.2c\n",
        "\n",
        "##random_forest"
      ],
      "metadata": {
        "id": "DvZPAJLC9NjU"
      }
    },
    {
      "cell_type": "code",
      "source": [
        "mdl1 = RandomForestClassifier(random_state=10)\n",
        "mdl1.fit(X_train,binarylabels1)\n",
        "\n",
        "y_pred = mdl1.predict_proba(X_test)[:,1]\n",
        "roc_auc_score(y_test1,y_pred)"
      ],
      "metadata": {
        "colab": {
          "base_uri": "https://localhost:8080/"
        },
        "id": "9nEM31pj9IZ7",
        "outputId": "43482deb-4979-4786-9017-e57836248ca9"
      },
      "execution_count": 124,
      "outputs": [
        {
          "output_type": "execute_result",
          "data": {
            "text/plain": [
              "0.8220065213073788"
            ]
          },
          "metadata": {},
          "execution_count": 124
        }
      ]
    },
    {
      "cell_type": "code",
      "source": [
        "mdl2 = RandomForestClassifier(random_state=10)\n",
        "mdl2.fit(X_train,binarylabels2)\n",
        "\n",
        "y_pred = mdl2.predict_proba(X_test)[:,1]\n",
        "roc_auc_score(y_test2,y_pred)"
      ],
      "metadata": {
        "colab": {
          "base_uri": "https://localhost:8080/"
        },
        "id": "y9wekTAc-S_3",
        "outputId": "f726c421-a197-4bde-ce59-f52b8759fec8"
      },
      "execution_count": 125,
      "outputs": [
        {
          "output_type": "execute_result",
          "data": {
            "text/plain": [
              "0.9228783172312585"
            ]
          },
          "metadata": {},
          "execution_count": 125
        }
      ]
    },
    {
      "cell_type": "code",
      "source": [
        "mdl3 = RandomForestClassifier(random_state=10)\n",
        "mdl3.fit(X_train,binarylabels3)\n",
        "\n",
        "y_pred = mdl3.predict_proba(X_test)[:,1]\n",
        "roc_auc_score(y_test3,y_pred)"
      ],
      "metadata": {
        "colab": {
          "base_uri": "https://localhost:8080/"
        },
        "id": "0K_nS2lj-zae",
        "outputId": "4e9d6dc4-41b0-478c-d5b9-5d03eb7ff43f"
      },
      "execution_count": 126,
      "outputs": [
        {
          "output_type": "execute_result",
          "data": {
            "text/plain": [
              "0.8305465323231636"
            ]
          },
          "metadata": {},
          "execution_count": 126
        }
      ]
    },
    {
      "cell_type": "code",
      "source": [
        "mdl4 = RandomForestClassifier(random_state=10)\n",
        "mdl4.fit(X_train,binarylabels4)\n",
        "\n",
        "y_pred = mdl4.predict_proba(X_test)[:,1]\n",
        "roc_auc_score(y_test4,y_pred)"
      ],
      "metadata": {
        "colab": {
          "base_uri": "https://localhost:8080/"
        },
        "id": "towAA2Fz_CwO",
        "outputId": "144ba1ae-f309-429a-93b1-f7c8361bfb8d"
      },
      "execution_count": 127,
      "outputs": [
        {
          "output_type": "execute_result",
          "data": {
            "text/plain": [
              "0.8761241734335359"
            ]
          },
          "metadata": {},
          "execution_count": 127
        }
      ]
    },
    {
      "cell_type": "code",
      "source": [
        "mdl5 = RandomForestClassifier(random_state=10)\n",
        "mdl5.fit(X_train,binarylabels5)\n",
        "\n",
        "y_pred = mdl5.predict_proba(X_test)[:,1]\n",
        "roc_auc_score(y_test5,y_pred)"
      ],
      "metadata": {
        "colab": {
          "base_uri": "https://localhost:8080/"
        },
        "id": "mUaSSRW-_JL9",
        "outputId": "76d6291c-100b-4ee7-ef92-48fde796b740"
      },
      "execution_count": 128,
      "outputs": [
        {
          "output_type": "execute_result",
          "data": {
            "text/plain": [
              "0.7578882257987868"
            ]
          },
          "metadata": {},
          "execution_count": 128
        }
      ]
    },
    {
      "cell_type": "code",
      "source": [
        "mdl6 = RandomForestClassifier(random_state=10)\n",
        "mdl6.fit(X_train,binarylabels6)\n",
        "\n",
        "y_pred = mdl6.predict_proba(X_test)[:,1]\n",
        "roc_auc_score(y_test6,y_pred)"
      ],
      "metadata": {
        "colab": {
          "base_uri": "https://localhost:8080/"
        },
        "id": "mfEQWI3E_P3E",
        "outputId": "5dc49181-f60f-494e-95e6-ebddfcdf8d7c"
      },
      "execution_count": 129,
      "outputs": [
        {
          "output_type": "execute_result",
          "data": {
            "text/plain": [
              "0.8357402732402732"
            ]
          },
          "metadata": {},
          "execution_count": 129
        }
      ]
    },
    {
      "cell_type": "markdown",
      "source": [
        "#PCA"
      ],
      "metadata": {
        "id": "8n8ScWJwO8_G"
      }
    },
    {
      "cell_type": "code",
      "source": [
        "#setting the predictor variable to 1 where cancer type=1\n",
        "# y1 = np.where(y == 1, 1, 0)\n",
        "# max_auc=0\n",
        "# best_no_of_comp = 0\n",
        "# auc=0\n",
        "# comp_values = [2500,2000,1500,1000,500] #the number of components I want to try\n",
        "# for n_components in comp_values: #looping over the 4 number of components\n",
        "#   pca = PCA(n_components=n_components) #defining the PCA function\n",
        "#   X_pca = pca.fit_transform(X) #pca on X\n",
        "#   X_pca_train = X_pca[:3000] # X split to train\n",
        "#   X_pca_val = X_pca[3000:4500] #X split to val\n",
        "#   X_pca_test = X_pca[4500:] #X split to test\n",
        "#   y_train = y1[:3000] #y1 split to train\n",
        "#   y_val = y1[3000:4500] #y1 split to val\n",
        "#   y_test = y1[4500:] #y1 split to test\n",
        "#   #logistic regression binary classifier for cancer type 1\n",
        "#   mdl1pca = LogisticRegression() #initiating the logistic regression\n",
        "#   mdl1pca.fit(X_pca_train, y_train) #fit model\n",
        "#   mdl1pca.predict_proba(X_pca_val)\n",
        "#   threshold = 0.5\n",
        "#   y_pred_val = mdl1pca.predict_proba(X_pca_val)[:,1]\n",
        "#   ans = roc_auc_score(y_val,y_pred_val)\n",
        "#   if ans>max_auc:\n",
        "#     max_auc=ans\n",
        "#     best_no_of_comp=n_components\n",
        "#     y_pred_test=mdl1pca.predict_proba(X_pca_test)[:,1]\n",
        "#     auc = roc_auc_score(y_test,y_pred_test)\n",
        "#   print(\"auc_score for # components = \", n_components)\n",
        "#   print(ans)\n",
        "\n",
        "# print(\"AUC score on the test set(out_of_sample_auc) with \",best_no_of_comp, \" is \",auc)"
      ],
      "metadata": {
        "colab": {
          "base_uri": "https://localhost:8080/"
        },
        "id": "Y0Fs3Ngb_XeQ",
        "outputId": "a25ba854-b92d-47b7-c7db-6a47e26733a2"
      },
      "execution_count": 52,
      "outputs": [
        {
          "output_type": "stream",
          "name": "stdout",
          "text": [
            "auc_score for # components =  2500\n",
            "0.938502203675919\n",
            "auc_score for # components =  2000\n",
            "0.9316508814703675\n",
            "auc_score for # components =  1500\n",
            "0.9334325768942235\n",
            "auc_score for # components =  1000\n",
            "0.9380685015003752\n",
            "auc_score for # components =  500\n",
            "0.9146075581395349\n",
            "AUC score on the test set(out_of_sample_auc) with  2500  is  0.947163828065714\n"
          ]
        }
      ]
    },
    {
      "cell_type": "code",
      "source": [
        "# comp_values = [3000,2500,2000] #the number of components I want to try\n",
        "# for n_components in comp_values: #looping over the 4 number of components\n",
        "#   pca3000 = PCA(n_components=3000) #defining the PCA function\n",
        "#   X_pca_train = X[:3000] # X split to train\n",
        "#   X_pca_val = X[3000:4500] #X split to val\n",
        "#   X_pca_test = X[4500:] #X split to test\n",
        "#   X_pca_train = pca.fit_transform(X) #pca on X\n",
        "#   print(\"auc's for comp=\",n_components)\n",
        "  # X_pca_train_3000 =\n",
        "X_pca_train = X[:3000] # X split to train\n",
        "X_pca_val = X[3000:4500] #X split to val\n",
        "X_pca_test = X[4500:] #X split to test\n",
        "pca3000 = PCA(n_components=3000)\n",
        "X_pca_train_3000 = pca3000.fit_transform(X_pca_train)\n",
        "X_pca_val_3000 = pca3000.transform(X_pca_val)\n",
        "# X_pca_test_3000 = pca3000.transform(X_pca_test)\n",
        "pca2500 = PCA(n_components=2500)\n",
        "X_pca_train_2500 = pca2500.fit_transform(X_pca_train)\n",
        "X_pca_val_2500 = pca2500.transform(X_pca_val)\n",
        "# X_pca_test_2500 = pca2500.transform(X_pca_test)\n",
        "pca2000 = PCA(n_components=2000)\n",
        "X_pca_train_2000 = pca2000.fit_transform(X_pca_train)\n",
        "X_pca_val_2000 = pca2000.transform(X_pca_val)\n",
        "# X_pca_test_2000 = pca2000.transform(X_pca_test)\n",
        "\n",
        "\n"
      ],
      "metadata": {
        "id": "-oDAdjiFxU0U"
      },
      "execution_count": 130,
      "outputs": []
    },
    {
      "cell_type": "markdown",
      "source": [
        "#Q6.3a\n",
        "\n",
        "##logistic regression with 2000, 2500 and 3000 Principle Components"
      ],
      "metadata": {
        "id": "58q95CJX5ky2"
      }
    },
    {
      "cell_type": "code",
      "source": [
        "for i in range(1,7):\n",
        "  yi = np.where(y == i, 1, 0)\n",
        "  max_auc=0\n",
        "\n",
        "  y_train = yi[:3000] #y1 split to train\n",
        "  y_val = yi[3000:4500] #y1 split to val\n",
        "  y_test = yi[4500:] #y1 split to test\n",
        "  mdlpca3000 = LogisticRegression() #initiating the logistic regression\n",
        "  mdlpca3000.fit(X_pca_train_3000, y_train) #fit model\n",
        "  mdlpca3000.predict_proba(X_pca_val_3000)\n",
        "  threshold = 0.5\n",
        "  y_pred_val3000 = mdlpca3000.predict_proba(X_pca_val_3000)[:,1]\n",
        "  ans3000=roc_auc_score(y_val,y_pred_val3000)\n",
        "  print(\"auc_score for 3000 components = \", ans3000)\n",
        "  if ans3000>max_auc:\n",
        "    max_auc=ans3000\n",
        "    best_no_of_comp=3000\n",
        "    mdl=mdlpca3000\n",
        "    pca=pca3000\n",
        "\n",
        "  mdlpca2500 = LogisticRegression() #initiating the logistic regression\n",
        "  mdlpca2500.fit(X_pca_train_2500, y_train) #fit model\n",
        "  mdlpca2500.predict_proba(X_pca_val_2500)\n",
        "  threshold = 0.5\n",
        "  y_pred_val2500 = mdlpca2500.predict_proba(X_pca_val_2500)[:,1]\n",
        "  ans2500=roc_auc_score(y_val,y_pred_val2500)\n",
        "  print(\"auc_score for 2500 components = \", ans2500)\n",
        "  if ans2500>max_auc:\n",
        "    max_auc=ans2500\n",
        "    best_no_of_comp=2500\n",
        "    mdl=mdlpca2500\n",
        "    pca=pca2500\n",
        "\n",
        "  mdlpca2000 = LogisticRegression() #initiating the logistic regression\n",
        "  mdlpca2000.fit(X_pca_train_2000, y_train) #fit model\n",
        "  mdlpca2000.predict_proba(X_pca_val_2000)\n",
        "  threshold = 0.5\n",
        "  y_pred_val2000 = mdlpca2000.predict_proba(X_pca_val_2000)[:,1]\n",
        "  ans2000=roc_auc_score(y_val,y_pred_val2000)\n",
        "  print(\"auc_score for 2000 components = \", ans2000)\n",
        "  if ans2000>max_auc:\n",
        "    max_auc=ans2000\n",
        "    best_no_of_comp=2000\n",
        "    mdl=mdlpca2000\n",
        "    pca=pca2000\n",
        "\n",
        "  X_pca_test_components = pca.transform(X_pca_test)\n",
        "  y_pred_test=mdl.predict_proba(X_pca_test_components)[:,1]\n",
        "  print(\"Out of Sample AUC score is \", roc_auc_score(y_test,y_pred_test), \" for number of components= \", best_no_of_comp)"
      ],
      "metadata": {
        "id": "lT4o3ckb0HxB"
      },
      "execution_count": null,
      "outputs": []
    },
    {
      "cell_type": "markdown",
      "source": [
        "#Q6.3b\n",
        "\n",
        "##logistic regression with L1 penalty and 2000,3000,2500 principle components"
      ],
      "metadata": {
        "id": "tjo5hX_-5tpG"
      }
    },
    {
      "cell_type": "code",
      "source": [
        "for i in range(1,7):\n",
        "  yi = np.where(y == i, 1, 0)\n",
        "  max_auc=0\n",
        "\n",
        "  y_train = yi[:3000] #y1 split to train\n",
        "  y_val = yi[3000:4500] #y1 split to val\n",
        "  y_test = yi[4500:] #y1 split to test\n",
        "  mdlpca3000 = LogisticRegression(penalty='l1', solver='liblinear') #initiating the logistic regression\n",
        "  mdlpca3000.fit(X_pca_train_3000, y_train) #fit model\n",
        "  mdlpca3000.predict_proba(X_pca_val_3000)\n",
        "  threshold = 0.5\n",
        "  y_pred_val3000 = mdlpca3000.predict_proba(X_pca_val_3000)[:,1]\n",
        "  ans3000=roc_auc_score(y_val,y_pred_val3000)\n",
        "  print(\"auc_score for 3000 components = \", ans3000)\n",
        "  if ans3000>max_auc:\n",
        "    max_auc=ans3000\n",
        "    best_no_of_comp=3000\n",
        "    mdl=mdlpca3000\n",
        "    pca=pca3000\n",
        "\n",
        "  mdlpca2500 = LogisticRegression(penalty='l1', solver='liblinear') #initiating the logistic regression\n",
        "  mdlpca2500.fit(X_pca_train_2500, y_train) #fit model\n",
        "  mdlpca2500.predict_proba(X_pca_val_2500)\n",
        "  threshold = 0.5\n",
        "  y_pred_val2500 = mdlpca2500.predict_proba(X_pca_val_2500)[:,1]\n",
        "  ans2500=roc_auc_score(y_val,y_pred_val2500)\n",
        "  print(\"auc_score for 2500 components = \", ans2500)\n",
        "  if ans2500>max_auc:\n",
        "    max_auc=ans2500\n",
        "    best_no_of_comp=2500\n",
        "    mdl=mdlpca2500\n",
        "    pca=pca2500\n",
        "\n",
        "  mdlpca2000 = LogisticRegression(penalty='l1', solver='liblinear') #initiating the logistic regression\n",
        "  mdlpca2000.fit(X_pca_train_2000, y_train) #fit model\n",
        "  mdlpca2000.predict_proba(X_pca_val_2000)\n",
        "  threshold = 0.5\n",
        "  y_pred_val2000 = mdlpca2000.predict_proba(X_pca_val_2000)[:,1]\n",
        "  ans2000=roc_auc_score(y_val,y_pred_val2000)\n",
        "  print(\"auc_score for 2000 components = \", ans2000)\n",
        "  if ans2000>max_auc:\n",
        "    max_auc=ans2000\n",
        "    best_no_of_comp=2000\n",
        "    mdl=mdlpca2000\n",
        "    pca=pca2000\n",
        "\n",
        "  X_pca_test_components = pca.transform(X_pca_test)\n",
        "  y_pred_test=mdl.predict_proba(X_pca_test_components)[:,1]\n",
        "  print(\"Out of Sample AUC score is \", roc_auc_score(y_test,y_pred_test), \" for number of components= \", best_no_of_comp)"
      ],
      "metadata": {
        "colab": {
          "base_uri": "https://localhost:8080/"
        },
        "id": "WgSPCIz7VbvT",
        "outputId": "cd833ae7-5add-4012-b123-09eec90b0cce"
      },
      "execution_count": 59,
      "outputs": [
        {
          "output_type": "stream",
          "name": "stdout",
          "text": [
            "auc_score for 3000 components =  0.9206911102775693\n",
            "auc_score for 2500 components =  0.9200933045761441\n",
            "auc_score for 2000 components =  0.9166764347336833\n",
            "Out of Sample AUC score is  0.9374418920209264  for number of components=  3000\n",
            "auc_score for 3000 components =  0.9543276807665637\n",
            "auc_score for 2500 components =  0.9531411820858962\n",
            "auc_score for 2000 components =  0.9546338739744779\n",
            "Out of Sample AUC score is  0.950726176578141  for number of components=  2000\n",
            "auc_score for 3000 components =  0.876182801078482\n",
            "auc_score for 2500 components =  0.8793793049361915\n",
            "auc_score for 2000 components =  0.8777026277857857\n",
            "Out of Sample AUC score is  0.87941491865244  for number of components=  2500\n",
            "auc_score for 3000 components =  0.9152124881291548\n",
            "auc_score for 2500 components =  0.9116134636967971\n",
            "auc_score for 2000 components =  0.9064739273072606\n",
            "Out of Sample AUC score is  0.9204145997315648  for number of components=  3000\n",
            "auc_score for 3000 components =  0.8477209353422233\n",
            "auc_score for 2500 components =  0.8498954735355793\n",
            "auc_score for 2000 components =  0.8529327185604751\n",
            "Out of Sample AUC score is  0.8433996145089278  for number of components=  2000\n",
            "auc_score for 3000 components =  0.9221714285714286\n",
            "auc_score for 2500 components =  0.9242\n",
            "auc_score for 2000 components =  0.9216000000000001\n",
            "Out of Sample AUC score is  0.899020901915258  for number of components=  2500\n"
          ]
        }
      ]
    },
    {
      "cell_type": "markdown",
      "source": [
        "#Q6.3c\n",
        "\n",
        "##random forest with 2000,3000 and 2500 principle components"
      ],
      "metadata": {
        "id": "6UBcifOt59vw"
      }
    },
    {
      "cell_type": "code",
      "source": [
        "for i in range(1,7):\n",
        "  yi = np.where(y == i, 1, 0)\n",
        "  max_auc=0\n",
        "\n",
        "  y_train = yi[:3000] #y1 split to train\n",
        "  y_val = yi[3000:4500] #y1 split to val\n",
        "  y_test = yi[4500:] #y1 split to test\n",
        "  mdlpca3000 = RandomForestClassifier(random_state=10) #initiating the logistic regression\n",
        "  mdlpca3000.fit(X_pca_train_3000, y_train) #fit model\n",
        "  mdlpca3000.predict_proba(X_pca_val_3000)\n",
        "  threshold = 0.5\n",
        "  y_pred_val3000 = mdlpca3000.predict_proba(X_pca_val_3000)[:,1]\n",
        "  ans3000=roc_auc_score(y_val,y_pred_val3000)\n",
        "  print(\"auc_score for 3000 components = \", ans3000)\n",
        "  if ans3000>max_auc:\n",
        "    max_auc=ans3000\n",
        "    best_no_of_comp=3000\n",
        "    mdl=mdlpca3000\n",
        "    pca=pca3000\n",
        "\n",
        "  mdlpca2500 = RandomForestClassifier(random_state=10) #initiating the logistic regression\n",
        "  mdlpca2500.fit(X_pca_train_2500, y_train) #fit model\n",
        "  mdlpca2500.predict_proba(X_pca_val_2500)\n",
        "  threshold = 0.5\n",
        "  y_pred_val2500 = mdlpca2500.predict_proba(X_pca_val_2500)[:,1]\n",
        "  ans2500=roc_auc_score(y_val,y_pred_val2500)\n",
        "  print(\"auc_score for 2500 components = \", ans2500)\n",
        "  if ans2500>max_auc:\n",
        "    max_auc=ans2500\n",
        "    best_no_of_comp=2500\n",
        "    mdl=mdlpca2500\n",
        "    pca=pca2500\n",
        "\n",
        "  mdlpca2000 = RandomForestClassifier(random_state=10) #initiating the logistic regression\n",
        "  mdlpca2000.fit(X_pca_train_2000, y_train) #fit model\n",
        "  mdlpca2000.predict_proba(X_pca_val_2000)\n",
        "  threshold = 0.5\n",
        "  y_pred_val2000 = mdlpca2000.predict_proba(X_pca_val_2000)[:,1]\n",
        "  ans2000=roc_auc_score(y_val,y_pred_val2000)\n",
        "  print(\"auc_score for 2000 components = \", ans2000)\n",
        "  if ans2000>max_auc:\n",
        "    max_auc=ans2000\n",
        "    best_no_of_comp=2000\n",
        "    mdl=mdlpca2000\n",
        "    pca=pca2000\n",
        "\n",
        "  X_pca_test_components = pca.transform(X_pca_test)\n",
        "  y_pred_test=mdl.predict_proba(X_pca_test_components)[:,1]\n",
        "  print(\"Out of Sample AUC score is \", roc_auc_score(y_test,y_pred_test), \" for number of components= \", best_no_of_comp)"
      ],
      "metadata": {
        "colab": {
          "base_uri": "https://localhost:8080/"
        },
        "id": "jS2f4RasiIgH",
        "outputId": "a931ad93-a32c-4a1a-97b4-8b57f77e211c"
      },
      "execution_count": 131,
      "outputs": [
        {
          "output_type": "stream",
          "name": "stdout",
          "text": [
            "auc_score for 3000 components =  0.3679875046886722\n",
            "auc_score for 2500 components =  0.4907574549887472\n",
            "auc_score for 2000 components =  0.8023929810577645\n",
            "Out of Sample AUC score is  0.8006349788675414  for number of components=  2000\n",
            "auc_score for 3000 components =  0.7612762403076341\n",
            "auc_score for 2500 components =  0.7850230995758323\n",
            "auc_score for 2000 components =  0.7781686494177826\n",
            "Out of Sample AUC score is  0.7780595333775276  for number of components=  2500\n",
            "auc_score for 3000 components =  0.563410848101163\n",
            "auc_score for 2500 components =  0.6376565462073293\n",
            "auc_score for 2000 components =  0.6734549555274907\n",
            "Out of Sample AUC score is  0.6786668267901073  for number of components=  2000\n",
            "auc_score for 3000 components =  0.8293161313994648\n",
            "auc_score for 2500 components =  0.8341076361909695\n",
            "auc_score for 2000 components =  0.8410021691271692\n",
            "Out of Sample AUC score is  0.844131788929258  for number of components=  2000\n",
            "auc_score for 3000 components =  0.6119224791674072\n",
            "auc_score for 2500 components =  0.5697031577654924\n",
            "auc_score for 2000 components =  0.5833772226009802\n",
            "Out of Sample AUC score is  0.6253106451306472  for number of components=  3000\n",
            "auc_score for 3000 components =  0.48274285714285714\n",
            "auc_score for 2500 components =  0.6731464285714286\n",
            "auc_score for 2000 components =  0.8669285714285716\n",
            "Out of Sample AUC score is  0.8164535657299767  for number of components=  2000\n"
          ]
        }
      ]
    },
    {
      "cell_type": "markdown",
      "source": [
        "\n",
        "\n",
        "####Now let's list all the out-of-sample AUC scores for each of the 6 cancer types for all 3 models with and without PCA\n",
        "\n",
        "#Summary\n",
        "\n",
        "#Cancer Type 1:\n",
        "\n",
        "\n",
        "Logistic Regression:0.9607288579164498\n",
        "\n",
        "Logistic Regression with L1 penalty: 0.9484266151800148\n",
        "\n",
        "Random Forest: 0.8220065213073788\n",
        "\n",
        "\n",
        "Logistic Regression with PCA(# components= 3000): 0.9574561645969757\n",
        "\n",
        "Logistic Regression with L1 penalty with PCA(# components= 3000): 0.9374418920209264\n",
        "\n",
        "Random Forest with PCA(# components= 2000): 0.800634978867541\n",
        "\n",
        "###For predicting cancer type 1, a simple logistic regression model gives the best out-of-sample AUC score, so we should use a logistic regression model to predict type 1 cancer.\n",
        "\n",
        "\n",
        "#Cancer Type 2:\n",
        "\n",
        "\n",
        "Logistic Regression: 0.9576842362724716\n",
        "\n",
        "Logistic Regression with L1 penalty: 0.9437231258407727\n",
        "\n",
        "Random Forest: 0.9228783172312585\n",
        "\n",
        "\n",
        "Logistic Regression with PCA(# components= 2000): 0.9506127573199419\n",
        "\n",
        "Logistic Regression with L1 penalty with PCA(# components= 2000): 0.950726176578141\n",
        "\n",
        "Random Forest with PCA(# components= 2500): 0.7780595333775276\n",
        "\n",
        "###For predicting cancer type 2, a simple logistic regression model gives the best out-of-sample AUC score. So, we should use a logistic regression model to predict type 2 cancer.\n",
        "\n",
        "\n",
        "#Cancer Type 3:\n",
        "\n",
        "\n",
        "Logistic Regression: 0.9252122620865386\n",
        "\n",
        "Logistic Regression with L1 penalty: 0.8943491601910115\n",
        "\n",
        "Random Forest: 0.8305465323231636\n",
        "\n",
        "Logistic Regression with PCA(# components= 2500): 0.903650571834772\n",
        "\n",
        "Logistic Regression with L1 penalty with PCA(# components= 2500): 0.87941491865244\n",
        "\n",
        "Random Forest with PCA(# components= 2000): 0.678666826790107\n",
        "\n",
        "###For predicting cancer type 3, a simple logistic regression model gives the best out-of-sample AUC score, so we should use a logistic regression model to predict type 3 cancer.\n",
        "\n",
        "#Cancer Type 4:\n",
        "\n",
        "Logistic Regression: 0.9367978719871906\n",
        "\n",
        "Logistic Regression with L1 penalty: 0.906780150844921\n",
        "\n",
        "Random Forest: 0.8761241734335359\n",
        "\n",
        "Logistic Regression with PCA(# components= 2000): 0.922406969483926\n",
        "\n",
        "Logistic Regression with L1 penalty with PCA(# components= 3000): 0.9204145997315648\n",
        "\n",
        "Random Forest with PCA(# components= 2000): 0.844131788929258\n",
        "\n",
        "###For predicting cancer type 4, a simple logistic regression model gives the best out-of-sample AUC score, so we should use a logistic regression model to predict type 4 cancer.\n",
        "\n",
        "#Cancer Type 5:\n",
        "\n",
        "Logistic Regression: 0.8852794508326269\n",
        "\n",
        "Logistic Regression with L1 penalty: 0.8858573765239532\n",
        "\n",
        "Random Forest: 0.7578882257987868\n",
        "\n",
        "Logistic Regression with PCA(# components= 2500): 0.8634632297287773\n",
        "\n",
        "Logistic Regression with L1 penalty with PCA(# components= 2000): 0.8433996145089278\n",
        "\n",
        "Random Forest with PCA(# components= 3000): 0.6253106451306472\n",
        "\n",
        "###For predicting cancer type 5, a simple logistic regression model with L1 penalty gives the best out-of-sample AUC score, so we should use a logistic regression model with L1 penalty to predict type 5 cancer.\n",
        "\n",
        "#Cancer Type 6:\n",
        "\n",
        "Logistic Regression: 0.9151109508252365\n",
        "\n",
        "Logistic Regression with L1 penalty: 0.9080439348296492\n",
        "\n",
        "Random Forest: 0.8357402732402732\n",
        "\n",
        "Logistic Regression with PCA(# components= 2000): 0.9097713670796159\n",
        "\n",
        "Logistic Regression with L1 penalty with PCA(# components= 2500): 0.899020901915258\n",
        "\n",
        "Random Forest with PCA(# components= 2000): 0.8164535657299767\n",
        "\n",
        "###For predicting cancer type 6, a simple logistic regression model gives the best out-of-sample AUC score, so we should use a logistic regression model to predict type 6 cancer.\n",
        "\n",
        "\n"
      ],
      "metadata": {
        "id": "ng3y3RfulbLR"
      }
    },
    {
      "cell_type": "markdown",
      "source": [
        "#Q6.4\n",
        "\n",
        "The first method could be to take the average of all the AUC scores for all 6 of the cancer types\n",
        "\n",
        "\n",
        "\n"
      ],
      "metadata": {
        "id": "x82MpJFB7ORL"
      }
    },
    {
      "cell_type": "code",
      "source": [
        "(0.9607288579164498+0.9576842362724716+0.9252122620865386+0.9367978719871906+0.8858573765239532+0.9151109508252365)/6"
      ],
      "metadata": {
        "colab": {
          "base_uri": "https://localhost:8080/"
        },
        "id": "xDD978WznW2M",
        "outputId": "f8baed8e-5dd1-4a32-f80d-080d4d5c260a"
      },
      "execution_count": 20,
      "outputs": [
        {
          "output_type": "execute_result",
          "data": {
            "text/plain": [
              "0.9302319259353067"
            ]
          },
          "metadata": {},
          "execution_count": 20
        }
      ]
    },
    {
      "cell_type": "markdown",
      "source": [
        "The average AUC over all 6 cancer types is 0.9302319259353067."
      ],
      "metadata": {
        "id": "ASHmRQ7RAj9c"
      }
    },
    {
      "cell_type": "markdown",
      "source": [
        "I feel another method to find the average AUC for the whole model together we should take the weighted average of highest AUC's for all of the 6 types of cancer, since the number of samples is different in each of the 6 cancer types.\n",
        "\n",
        "Also, for 5 of the 6 cancer types, the simple logistic model performs the best, so we can just use a logistic regression model over all 6 cancer types to find the average AUC."
      ],
      "metadata": {
        "id": "vjhVOzm1_01V"
      }
    },
    {
      "cell_type": "code",
      "source": [],
      "metadata": {
        "id": "Ts4V1zFY_1sj"
      },
      "execution_count": null,
      "outputs": []
    }
  ]
}